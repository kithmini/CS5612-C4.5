{
 "cells": [
  {
   "cell_type": "code",
   "execution_count": 19,
   "metadata": {},
   "outputs": [
    {
     "name": "stdout",
     "output_type": "stream",
     "text": [
      "##### Logistic Regression on Wisconsin Breast Cancer Data #####\n",
      "----- Importing required libraries & modules-----\n"
     ]
    }
   ],
   "source": [
    "print('##### Logistic Regression on Wisconsin Breast Cancer Data #####')\n",
    "\n",
    "print('----- Importing required libraries & modules-----')\n",
    "\n",
    "import pandas as pd\n",
    "import numpy as np\n",
    "import seaborn as sns\n",
    "import matplotlib.pyplot as plt\n",
    "from sklearn import tree\n",
    "from sklearn.model_selection import train_test_split"
   ]
  },
  {
   "cell_type": "code",
   "execution_count": 20,
   "metadata": {},
   "outputs": [
    {
     "name": "stdout",
     "output_type": "stream",
     "text": [
      "----- Importing dataset -----\n",
      "Imported Rows, Columns -  (699, 11)\n",
      "Data Head :\n"
     ]
    },
    {
     "data": {
      "text/html": [
       "<div>\n",
       "<style scoped>\n",
       "    .dataframe tbody tr th:only-of-type {\n",
       "        vertical-align: middle;\n",
       "    }\n",
       "\n",
       "    .dataframe tbody tr th {\n",
       "        vertical-align: top;\n",
       "    }\n",
       "\n",
       "    .dataframe thead th {\n",
       "        text-align: right;\n",
       "    }\n",
       "</style>\n",
       "<table border=\"1\" class=\"dataframe\">\n",
       "  <thead>\n",
       "    <tr style=\"text-align: right;\">\n",
       "      <th></th>\n",
       "      <th>sample_code_number</th>\n",
       "      <th>clump_thickness</th>\n",
       "      <th>uniformity_of_cell_size</th>\n",
       "      <th>uniformity_of_cell_shape</th>\n",
       "      <th>marginal_adhesion</th>\n",
       "      <th>single_epithelial_cell_size</th>\n",
       "      <th>bare_nuclei</th>\n",
       "      <th>bland_chromatin</th>\n",
       "      <th>normal_nucleoli</th>\n",
       "      <th>mitoses</th>\n",
       "      <th>class</th>\n",
       "    </tr>\n",
       "  </thead>\n",
       "  <tbody>\n",
       "    <tr>\n",
       "      <th>0</th>\n",
       "      <td>1000025</td>\n",
       "      <td>5</td>\n",
       "      <td>1</td>\n",
       "      <td>1</td>\n",
       "      <td>1</td>\n",
       "      <td>2</td>\n",
       "      <td>1</td>\n",
       "      <td>3</td>\n",
       "      <td>1</td>\n",
       "      <td>1</td>\n",
       "      <td>2</td>\n",
       "    </tr>\n",
       "    <tr>\n",
       "      <th>1</th>\n",
       "      <td>1002945</td>\n",
       "      <td>5</td>\n",
       "      <td>4</td>\n",
       "      <td>4</td>\n",
       "      <td>5</td>\n",
       "      <td>7</td>\n",
       "      <td>10</td>\n",
       "      <td>3</td>\n",
       "      <td>2</td>\n",
       "      <td>1</td>\n",
       "      <td>2</td>\n",
       "    </tr>\n",
       "    <tr>\n",
       "      <th>2</th>\n",
       "      <td>1015425</td>\n",
       "      <td>3</td>\n",
       "      <td>1</td>\n",
       "      <td>1</td>\n",
       "      <td>1</td>\n",
       "      <td>2</td>\n",
       "      <td>2</td>\n",
       "      <td>3</td>\n",
       "      <td>1</td>\n",
       "      <td>1</td>\n",
       "      <td>2</td>\n",
       "    </tr>\n",
       "    <tr>\n",
       "      <th>3</th>\n",
       "      <td>1016277</td>\n",
       "      <td>6</td>\n",
       "      <td>8</td>\n",
       "      <td>8</td>\n",
       "      <td>1</td>\n",
       "      <td>3</td>\n",
       "      <td>4</td>\n",
       "      <td>3</td>\n",
       "      <td>7</td>\n",
       "      <td>1</td>\n",
       "      <td>2</td>\n",
       "    </tr>\n",
       "    <tr>\n",
       "      <th>4</th>\n",
       "      <td>1017023</td>\n",
       "      <td>4</td>\n",
       "      <td>1</td>\n",
       "      <td>1</td>\n",
       "      <td>3</td>\n",
       "      <td>2</td>\n",
       "      <td>1</td>\n",
       "      <td>3</td>\n",
       "      <td>1</td>\n",
       "      <td>1</td>\n",
       "      <td>2</td>\n",
       "    </tr>\n",
       "  </tbody>\n",
       "</table>\n",
       "</div>"
      ],
      "text/plain": [
       "   sample_code_number  clump_thickness  uniformity_of_cell_size  \\\n",
       "0             1000025                5                        1   \n",
       "1             1002945                5                        4   \n",
       "2             1015425                3                        1   \n",
       "3             1016277                6                        8   \n",
       "4             1017023                4                        1   \n",
       "\n",
       "   uniformity_of_cell_shape  marginal_adhesion  single_epithelial_cell_size  \\\n",
       "0                         1                  1                            2   \n",
       "1                         4                  5                            7   \n",
       "2                         1                  1                            2   \n",
       "3                         8                  1                            3   \n",
       "4                         1                  3                            2   \n",
       "\n",
       "  bare_nuclei  bland_chromatin  normal_nucleoli  mitoses  class  \n",
       "0           1                3                1        1      2  \n",
       "1          10                3                2        1      2  \n",
       "2           2                3                1        1      2  \n",
       "3           4                3                7        1      2  \n",
       "4           1                3                1        1      2  "
      ]
     },
     "execution_count": 20,
     "metadata": {},
     "output_type": "execute_result"
    }
   ],
   "source": [
    "print('----- Importing dataset -----')\n",
    "data = pd.read_csv('bcwd.csv', header=None)\n",
    "\n",
    "data.columns = ['sample_code_number','clump_thickness','uniformity_of_cell_size','uniformity_of_cell_shape','marginal_adhesion',              'single_epithelial_cell_size','bare_nuclei','bland_chromatin','normal_nucleoli','mitoses','class']\n",
    "feature_columns = ['clump_thickness','uniformity_of_cell_size','uniformity_of_cell_shape','marginal_adhesion',              'single_epithelial_cell_size','bare_nuclei','bland_chromatin','normal_nucleoli','mitoses']\n",
    "\n",
    "\n",
    "\n",
    "print ('Imported Rows, Columns - ', data.shape)\n",
    "print ('Data Head :')\n",
    "data.head()"
   ]
  },
  {
   "cell_type": "code",
   "execution_count": 21,
   "metadata": {},
   "outputs": [
    {
     "data": {
      "text/plain": [
       "[Text(115.892307692, 206.568, 'X[1] <= 2.5\\ngini = 0.461\\nsamples = 443\\nvalue = [283, 160]'),\n",
       " Text(64.3846153846, 184.824, 'X[7] <= 3.5\\ngini = 0.065\\nsamples = 268\\nvalue = [259, 9]'),\n",
       " Text(51.5076923077, 163.08, 'X[4] <= 5.5\\ngini = 0.023\\nsamples = 262\\nvalue = [259, 3]'),\n",
       " Text(25.7538461538, 141.336, 'X[0] <= 6.5\\ngini = 0.008\\nsamples = 259\\nvalue = [258, 1]'),\n",
       " Text(12.8769230769, 119.592, 'gini = 0.0\\nsamples = 256\\nvalue = [256, 0]'),\n",
       " Text(38.6307692308, 119.592, 'X[7] <= 2.0\\ngini = 0.444\\nsamples = 3\\nvalue = [2, 1]'),\n",
       " Text(25.7538461538, 97.848, 'gini = 0.0\\nsamples = 2\\nvalue = [2, 0]'),\n",
       " Text(51.5076923077, 97.848, 'gini = 0.0\\nsamples = 1\\nvalue = [0, 1]'),\n",
       " Text(77.2615384615, 141.336, 'X[4] <= 8.0\\ngini = 0.444\\nsamples = 3\\nvalue = [1, 2]'),\n",
       " Text(64.3846153846, 119.592, 'gini = 0.0\\nsamples = 2\\nvalue = [0, 2]'),\n",
       " Text(90.1384615385, 119.592, 'gini = 0.0\\nsamples = 1\\nvalue = [1, 0]'),\n",
       " Text(77.2615384615, 163.08, 'gini = 0.0\\nsamples = 6\\nvalue = [0, 6]'),\n",
       " Text(167.4, 184.824, 'X[2] <= 2.5\\ngini = 0.237\\nsamples = 175\\nvalue = [24, 151]'),\n",
       " Text(115.892307692, 163.08, 'X[6] <= 3.5\\ngini = 0.355\\nsamples = 13\\nvalue = [10, 3]'),\n",
       " Text(103.015384615, 141.336, 'gini = 0.0\\nsamples = 10\\nvalue = [10, 0]'),\n",
       " Text(128.769230769, 141.336, 'gini = 0.0\\nsamples = 3\\nvalue = [0, 3]'),\n",
       " Text(218.907692308, 163.08, 'X[1] <= 4.5\\ngini = 0.158\\nsamples = 162\\nvalue = [14, 148]'),\n",
       " Text(154.523076923, 141.336, 'X[5] <= 6.0\\ngini = 0.386\\nsamples = 46\\nvalue = [12, 34]'),\n",
       " Text(128.769230769, 119.592, 'X[8] <= 1.5\\ngini = 0.494\\nsamples = 18\\nvalue = [10, 8]'),\n",
       " Text(115.892307692, 97.848, 'X[3] <= 3.5\\ngini = 0.444\\nsamples = 15\\nvalue = [10, 5]'),\n",
       " Text(90.1384615385, 76.104, 'X[7] <= 8.0\\ngini = 0.298\\nsamples = 11\\nvalue = [9, 2]'),\n",
       " Text(77.2615384615, 54.36, 'X[2] <= 3.5\\ngini = 0.18\\nsamples = 10\\nvalue = [9, 1]'),\n",
       " Text(64.3846153846, 32.616, 'X[5] <= 2.5\\ngini = 0.444\\nsamples = 3\\nvalue = [2, 1]'),\n",
       " Text(51.5076923077, 10.872, 'gini = 0.0\\nsamples = 2\\nvalue = [2, 0]'),\n",
       " Text(77.2615384615, 10.872, 'gini = 0.0\\nsamples = 1\\nvalue = [0, 1]'),\n",
       " Text(90.1384615385, 32.616, 'gini = 0.0\\nsamples = 7\\nvalue = [7, 0]'),\n",
       " Text(103.015384615, 54.36, 'gini = 0.0\\nsamples = 1\\nvalue = [0, 1]'),\n",
       " Text(141.646153846, 76.104, 'X[0] <= 5.5\\ngini = 0.375\\nsamples = 4\\nvalue = [1, 3]'),\n",
       " Text(128.769230769, 54.36, 'X[7] <= 4.0\\ngini = 0.5\\nsamples = 2\\nvalue = [1, 1]'),\n",
       " Text(115.892307692, 32.616, 'gini = 0.0\\nsamples = 1\\nvalue = [1, 0]'),\n",
       " Text(141.646153846, 32.616, 'gini = 0.0\\nsamples = 1\\nvalue = [0, 1]'),\n",
       " Text(154.523076923, 54.36, 'gini = 0.0\\nsamples = 2\\nvalue = [0, 2]'),\n",
       " Text(141.646153846, 97.848, 'gini = 0.0\\nsamples = 3\\nvalue = [0, 3]'),\n",
       " Text(180.276923077, 119.592, 'X[8] <= 1.5\\ngini = 0.133\\nsamples = 28\\nvalue = [2, 26]'),\n",
       " Text(167.4, 97.848, 'gini = 0.0\\nsamples = 20\\nvalue = [0, 20]'),\n",
       " Text(193.153846154, 97.848, 'X[0] <= 7.0\\ngini = 0.375\\nsamples = 8\\nvalue = [2, 6]'),\n",
       " Text(180.276923077, 76.104, 'gini = 0.0\\nsamples = 1\\nvalue = [1, 0]'),\n",
       " Text(206.030769231, 76.104, 'X[4] <= 3.5\\ngini = 0.245\\nsamples = 7\\nvalue = [1, 6]'),\n",
       " Text(193.153846154, 54.36, 'gini = 0.0\\nsamples = 5\\nvalue = [0, 5]'),\n",
       " Text(218.907692308, 54.36, 'X[7] <= 6.5\\ngini = 0.5\\nsamples = 2\\nvalue = [1, 1]'),\n",
       " Text(206.030769231, 32.616, 'gini = 0.0\\nsamples = 1\\nvalue = [0, 1]'),\n",
       " Text(231.784615385, 32.616, 'gini = 0.0\\nsamples = 1\\nvalue = [1, 0]'),\n",
       " Text(283.292307692, 141.336, 'X[3] <= 1.5\\ngini = 0.034\\nsamples = 116\\nvalue = [2, 114]'),\n",
       " Text(257.538461538, 119.592, 'X[0] <= 7.0\\ngini = 0.278\\nsamples = 6\\nvalue = [1, 5]'),\n",
       " Text(244.661538462, 97.848, 'X[0] <= 5.5\\ngini = 0.5\\nsamples = 2\\nvalue = [1, 1]'),\n",
       " Text(231.784615385, 76.104, 'gini = 0.0\\nsamples = 1\\nvalue = [0, 1]'),\n",
       " Text(257.538461538, 76.104, 'gini = 0.0\\nsamples = 1\\nvalue = [1, 0]'),\n",
       " Text(270.415384615, 97.848, 'gini = 0.0\\nsamples = 4\\nvalue = [0, 4]'),\n",
       " Text(309.046153846, 119.592, 'X[7] <= 2.5\\ngini = 0.018\\nsamples = 110\\nvalue = [1, 109]'),\n",
       " Text(296.169230769, 97.848, 'X[7] <= 1.5\\ngini = 0.087\\nsamples = 22\\nvalue = [1, 21]'),\n",
       " Text(283.292307692, 76.104, 'gini = 0.0\\nsamples = 20\\nvalue = [0, 20]'),\n",
       " Text(309.046153846, 76.104, 'X[6] <= 5.5\\ngini = 0.5\\nsamples = 2\\nvalue = [1, 1]'),\n",
       " Text(296.169230769, 54.36, 'gini = 0.0\\nsamples = 1\\nvalue = [1, 0]'),\n",
       " Text(321.923076923, 54.36, 'gini = 0.0\\nsamples = 1\\nvalue = [0, 1]'),\n",
       " Text(321.923076923, 97.848, 'gini = 0.0\\nsamples = 88\\nvalue = [0, 88]')]"
      ]
     },
     "execution_count": 21,
     "metadata": {},
     "output_type": "execute_result"
    },
    {
     "data": {
      "image/png": "[encoded data removed]",
      "text/plain": [
       "<Figure size 432x288 with 1 Axes>"
      ]
     },
     "metadata": {
      "needs_background": "light"
     },
     "output_type": "display_data"
    }
   ],
   "source": [
    "missingRemovedData =  data[data['bare_nuclei'] != '?'] # remove rows with missing data\n",
    "\n",
    "X = missingRemovedData[feature_columns]\n",
    "y = missingRemovedData['class']\n",
    "y = (y-2)/2 #simplified\n",
    "\n",
    "# split X and y into training and teting sets\n",
    "X_train, X_test, y_train, y_test = train_test_split(X, y, test_size=0.35)\n",
    "\n",
    "#Implemnt C4.5 model\n",
    "cdtModel = tree.DecisionTreeClassifier()\n",
    "cdtModel = cdtModel.fit(X_train, y_train)\n",
    "\n",
    "%matplotlib inline \n",
    "tree.plot_tree(cdtModel)\n"
   ]
  },
  {
   "cell_type": "markdown",
   "metadata": {},
   "source": []
  },
  {
   "cell_type": "markdown",
   "metadata": {},
   "source": [
    "##### "
   ]
  },
  {
   "cell_type": "code",
   "execution_count": 22,
   "metadata": {},
   "outputs": [],
   "source": [
    "y_pred = cdtModel.predict(X_test)"
   ]
  },
  {
   "cell_type": "code",
   "execution_count": 23,
   "metadata": {},
   "outputs": [
    {
     "name": "stdout",
     "output_type": "stream",
     "text": [
      "[[155   6]\n",
      " [  6  73]]\n",
      "              precision    recall  f1-score   support\n",
      "\n",
      "         0.0       0.96      0.96      0.96       161\n",
      "         1.0       0.92      0.92      0.92        79\n",
      "\n",
      "    accuracy                           0.95       240\n",
      "   macro avg       0.94      0.94      0.94       240\n",
      "weighted avg       0.95      0.95      0.95       240\n",
      "\n",
      "Accuracy:  95.0\n"
     ]
    }
   ],
   "source": [
    "from sklearn.metrics import classification_report, confusion_matrix\n",
    "print(confusion_matrix(y_test, y_pred))\n",
    "print(classification_report(y_test, y_pred))\n",
    "\n",
    "from sklearn import metrics\n",
    "\n",
    "print(\"Accuracy: \",  metrics.accuracy_score(y_test, y_pred)*100.0)\n"
   ]
  }
 ],
 "metadata": {
  "kernelspec": {
   "display_name": "Python 2",
   "language": "python",
   "name": "python2"
  },
  "language_info": {
   "codemirror_mode": {
    "name": "ipython",
    "version": 3
   },
   "file_extension": ".py",
   "mimetype": "text/x-python",
   "name": "python",
   "nbconvert_exporter": "python",
   "pygments_lexer": "ipython3",
   "version": "3.6.9"
  }
 },
 "nbformat": 4,
 "nbformat_minor": 2
}
